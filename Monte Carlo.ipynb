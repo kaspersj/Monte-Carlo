{
 "cells": [
  {
   "cell_type": "code",
   "execution_count": 3,
   "id": "a7880b13",
   "metadata": {},
   "outputs": [],
   "source": [
    "import numpy as np"
   ]
  },
  {
   "cell_type": "markdown",
   "id": "9b2eb4d1",
   "metadata": {},
   "source": [
    "Assume that when a baseball player is  at bat their chances of getting a hit are independent and identically distributed. Assume 300 at bats per season. What is the chance that a player with 25% of hitting the ball hits strictly more balls than a player with a .300 average?"
   ]
  },
  {
   "cell_type": "code",
   "execution_count": 4,
   "id": "e2435732",
   "metadata": {},
   "outputs": [
    {
     "name": "stdout",
     "output_type": "stream",
     "text": [
      "Probability is approximately  0.0922426\n",
      "Error is approximately  9.150623079618133e-05\n"
     ]
    }
   ],
   "source": [
    "n = 10000000\n",
    "\n",
    "results = np.random.binomial(300, 0.25, n) >= np.random.binomial(300, 0.300, n)\n",
    "print(\"Probability is approximately \", np.average(results))\n",
    "print(\"Error is approximately \", np.sqrt(np.var(results)/n))"
   ]
  },
  {
   "cell_type": "markdown",
   "id": "d0214a5d",
   "metadata": {},
   "source": [
    "A line has infinitely many people in it. All have independent and identically distributed birthdays which are distributed uniformly throughout a 365 day year. Starting at the beginning of the line, each person declares the month and day of their birthday. What is the expected number of people that need to declare their birthdays before 3 people share the same birthday?"
   ]
  },
  {
   "cell_type": "code",
   "execution_count": 5,
   "id": "7a8f3086",
   "metadata": {},
   "outputs": [
    {
     "name": "stdout",
     "output_type": "stream",
     "text": [
      "Probability is approximately  88.5341\n",
      "Error is approximately  0.32824396981361287\n"
     ]
    }
   ],
   "source": [
    "n = 10000\n",
    "\n",
    "results = np.zeros(n)\n",
    "\n",
    "for i in range(n):\n",
    "    days = np.zeros(365)\n",
    "    j = 0\n",
    "    \n",
    "    while(i):\n",
    "        j+=1\n",
    "        days[np.random.randint(365)] += 1\n",
    "        if max(days) >= 3:\n",
    "            results[i] = j\n",
    "            break\n",
    "    \n",
    "print(\"Probability is approximately \", np.average(results))\n",
    "print(\"Error is approximately \", np.sqrt(np.var(results)/n))"
   ]
  },
  {
   "cell_type": "code",
   "execution_count": null,
   "id": "80fdb7a5",
   "metadata": {},
   "outputs": [],
   "source": []
  }
 ],
 "metadata": {
  "kernelspec": {
   "display_name": "Python 3 (ipykernel)",
   "language": "python",
   "name": "python3"
  },
  "language_info": {
   "codemirror_mode": {
    "name": "ipython",
    "version": 3
   },
   "file_extension": ".py",
   "mimetype": "text/x-python",
   "name": "python",
   "nbconvert_exporter": "python",
   "pygments_lexer": "ipython3",
   "version": "3.9.0"
  }
 },
 "nbformat": 4,
 "nbformat_minor": 5
}
